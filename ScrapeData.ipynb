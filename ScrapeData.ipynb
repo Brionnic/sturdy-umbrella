{
 "cells": [
  {
   "cell_type": "markdown",
   "metadata": {},
   "source": [
    "##### Scrape school district info from the county assessor site.  This data is probably useful but this also helps demonstrate the ability to consume data from different sources"
   ]
  },
  {
   "cell_type": "code",
   "execution_count": 71,
   "metadata": {
    "collapsed": false
   },
   "outputs": [],
   "source": [
    "import pandas as pd\n",
    "from selenium import webdriver\n",
    "from selenium.webdriver.common.keys import Keys\n",
    "import time\n",
    "import random"
   ]
  },
  {
   "cell_type": "code",
   "execution_count": 4,
   "metadata": {
    "collapsed": true
   },
   "outputs": [],
   "source": [
    "data = pd.read_csv(\"AmesHousing.csv\", \"~\")"
   ]
  },
  {
   "cell_type": "code",
   "execution_count": 31,
   "metadata": {
    "collapsed": true
   },
   "outputs": [],
   "source": [
    "_path = \"https://beacon.schneidercorp.com/Application.aspx?AppID=165&LayerID=2145&PageTypeID=4&PageID=1108&KeyValue=\"\n",
    "\n",
    "req_path = _path + \"0526351010\""
   ]
  },
  {
   "cell_type": "code",
   "execution_count": 32,
   "metadata": {
    "collapsed": false
   },
   "outputs": [
    {
     "name": "stdout",
     "output_type": "stream",
     "text": [
      "https://beacon.schneidercorp.com/Application.aspx?AppID=165&LayerID=2145&PageTypeID=4&PageID=1108&KeyValue=0526351010\n"
     ]
    }
   ],
   "source": [
    "print req_path"
   ]
  },
  {
   "cell_type": "code",
   "execution_count": 18,
   "metadata": {
    "collapsed": true
   },
   "outputs": [],
   "source": [
    "req = requests.get(req_path)"
   ]
  },
  {
   "cell_type": "code",
   "execution_count": 19,
   "metadata": {
    "collapsed": false
   },
   "outputs": [
    {
     "data": {
      "text/plain": [
       "'<Response [200]>'"
      ]
     },
     "execution_count": 19,
     "metadata": {},
     "output_type": "execute_result"
    }
   ],
   "source": [
    "str(req)"
   ]
  },
  {
   "cell_type": "code",
   "execution_count": 73,
   "metadata": {
    "collapsed": false
   },
   "outputs": [
    {
     "ename": "IndexError",
     "evalue": "list index out of range",
     "output_type": "error",
     "traceback": [
      "\u001b[0;31m---------------------------------------------------------------------------\u001b[0m",
      "\u001b[0;31mIndexError\u001b[0m                                Traceback (most recent call last)",
      "\u001b[0;32m<ipython-input-73-3ef473620a35>\u001b[0m in \u001b[0;36m<module>\u001b[0;34m()\u001b[0m\n\u001b[1;32m     42\u001b[0m \u001b[0;34m\u001b[0m\u001b[0m\n\u001b[1;32m     43\u001b[0m     \u001b[0;31m# school district\u001b[0m\u001b[0;34m\u001b[0m\u001b[0;34m\u001b[0m\u001b[0m\n\u001b[0;32m---> 44\u001b[0;31m     \u001b[0mschool\u001b[0m \u001b[0;34m=\u001b[0m \u001b[0mdiv\u001b[0m\u001b[0;34m[\u001b[0m\u001b[0;36m0\u001b[0m\u001b[0;34m]\u001b[0m\u001b[0;34m.\u001b[0m\u001b[0mget_attribute\u001b[0m\u001b[0;34m(\u001b[0m\u001b[0;34m\"innerHTML\"\u001b[0m\u001b[0;34m)\u001b[0m\u001b[0;34m\u001b[0m\u001b[0m\n\u001b[0m\u001b[1;32m     45\u001b[0m \u001b[0;34m\u001b[0m\u001b[0m\n\u001b[1;32m     46\u001b[0m     \u001b[0mschool_list\u001b[0m\u001b[0;34m.\u001b[0m\u001b[0mappend\u001b[0m\u001b[0;34m(\u001b[0m\u001b[0;34m{\u001b[0m\u001b[0;34m\"pid\"\u001b[0m\u001b[0;34m:\u001b[0m\u001b[0mpid\u001b[0m\u001b[0;34m,\u001b[0m \u001b[0;34m\"school\"\u001b[0m\u001b[0;34m:\u001b[0m\u001b[0mschool\u001b[0m\u001b[0;34m}\u001b[0m\u001b[0;34m)\u001b[0m\u001b[0;34m\u001b[0m\u001b[0m\n",
      "\u001b[0;31mIndexError\u001b[0m: list index out of range"
     ]
    }
   ],
   "source": [
    "# get html using selenium\n",
    "# def strip_mine_path(path):\n",
    "#     '''\n",
    "#     Get the html for a parcel and try to pull out the school district\n",
    "    \n",
    "#     Return school district as string if successful, otherwise return 'error'\n",
    "#     '''\n",
    "# create 'browser'\n",
    "driver = webdriver.Chrome()\n",
    "\n",
    "# set size of window\n",
    "driver.set_window_size(900, 800)\n",
    "\n",
    "# request page\n",
    "driver.get(req_path)\n",
    "\n",
    "time.sleep(1)\n",
    "\n",
    "# go path the accept page\n",
    "driver.find_element_by_css_selector('a.btn.btn-default.button-1').click()\n",
    "\n",
    "\n",
    "# pids = data.PID.iloc[0:10]\n",
    "pids = data.PID.iloc[155:]\n",
    "\n",
    "# print pids\n",
    "\n",
    "school_list = []\n",
    "\n",
    "# format string into pid\n",
    "# example PID: 05-22-160-070\n",
    "# example data PID: 526301100\n",
    "# converted: 05-26-301-100\n",
    "for pid in pids:\n",
    "    pid = str(pid)\n",
    "    formatted = \"{}-{}-{}-{}\".format(\"0\" + pid[0], pid[1:3], pid[3:6], pid[6:])\n",
    "\n",
    "    \n",
    "    \n",
    "    # try to get the div that we want\n",
    "    div = driver.find_elements_by_id(\"ctlBodyPane_ctl00_ctl01_lblSchoolDistrict\")\n",
    "\n",
    "    # school district\n",
    "    school = div[0].get_attribute(\"innerHTML\")\n",
    "    \n",
    "    school_list.append({\"pid\":pid, \"school\":school})\n",
    "    \n",
    "    random_time = random.random() * 10.0\n",
    "    time.sleep(random_time)\n",
    "    \n",
    "    # move to search tab\n",
    "    driver.find_elements_by_class_name(\"tab-item-bar\")[2].click()\n",
    "\n",
    "    # search for next property\n",
    "    _input = driver.find_element_by_id(\"ctlBodyPane_ctl02_ctl01_txtParcelID\")\n",
    "    _input.send_keys(formatted)\n",
    "    _input.send_keys(Keys.ENTER)\n",
    "\n",
    "\n",
    "time.sleep(2)\n",
    "\n",
    "driver.close()"
   ]
  },
  {
   "cell_type": "code",
   "execution_count": 61,
   "metadata": {
    "collapsed": false
   },
   "outputs": [
    {
     "name": "stdout",
     "output_type": "stream",
     "text": [
      "[{'school': u'AMES COMMUNITY SCHOOL', 'pid': '526301100'}, {'school': u'AMES COMMUNITY SCHOOL', 'pid': '526350040'}, {'school': u'AMES COMMUNITY SCHOOL', 'pid': '526351010'}, {'school': u'AMES COMMUNITY SCHOOL', 'pid': '526353030'}, {'school': u'AMES COMMUNITY SCHOOL', 'pid': '527105010'}, {'school': u'GILBERT COMMUNITY SCHOOL', 'pid': '527105030'}, {'school': u'GILBERT COMMUNITY SCHOOL', 'pid': '527127150'}, {'school': u'GILBERT COMMUNITY SCHOOL', 'pid': '527145080'}, {'school': u'GILBERT COMMUNITY SCHOOL', 'pid': '527146030'}, {'school': u'GILBERT COMMUNITY SCHOOL', 'pid': '527162130'}]\n"
     ]
    }
   ],
   "source": [
    "print school_list"
   ]
  },
  {
   "cell_type": "code",
   "execution_count": 67,
   "metadata": {
    "collapsed": true
   },
   "outputs": [],
   "source": [
    "boink = pd.DataFrame(school_list)"
   ]
  },
  {
   "cell_type": "code",
   "execution_count": 68,
   "metadata": {
    "collapsed": false
   },
   "outputs": [
    {
     "data": {
      "text/html": [
       "<div>\n",
       "<style>\n",
       "    .dataframe thead tr:only-child th {\n",
       "        text-align: right;\n",
       "    }\n",
       "\n",
       "    .dataframe thead th {\n",
       "        text-align: left;\n",
       "    }\n",
       "\n",
       "    .dataframe tbody tr th {\n",
       "        vertical-align: top;\n",
       "    }\n",
       "</style>\n",
       "<table border=\"1\" class=\"dataframe\">\n",
       "  <thead>\n",
       "    <tr style=\"text-align: right;\">\n",
       "      <th></th>\n",
       "      <th>pid</th>\n",
       "      <th>school</th>\n",
       "    </tr>\n",
       "  </thead>\n",
       "  <tbody>\n",
       "    <tr>\n",
       "      <th>0</th>\n",
       "      <td>526301100</td>\n",
       "      <td>AMES COMMUNITY SCHOOL</td>\n",
       "    </tr>\n",
       "    <tr>\n",
       "      <th>1</th>\n",
       "      <td>526350040</td>\n",
       "      <td>AMES COMMUNITY SCHOOL</td>\n",
       "    </tr>\n",
       "    <tr>\n",
       "      <th>2</th>\n",
       "      <td>526351010</td>\n",
       "      <td>AMES COMMUNITY SCHOOL</td>\n",
       "    </tr>\n",
       "    <tr>\n",
       "      <th>3</th>\n",
       "      <td>526353030</td>\n",
       "      <td>AMES COMMUNITY SCHOOL</td>\n",
       "    </tr>\n",
       "    <tr>\n",
       "      <th>4</th>\n",
       "      <td>527105010</td>\n",
       "      <td>AMES COMMUNITY SCHOOL</td>\n",
       "    </tr>\n",
       "    <tr>\n",
       "      <th>5</th>\n",
       "      <td>527105030</td>\n",
       "      <td>GILBERT COMMUNITY SCHOOL</td>\n",
       "    </tr>\n",
       "    <tr>\n",
       "      <th>6</th>\n",
       "      <td>527127150</td>\n",
       "      <td>GILBERT COMMUNITY SCHOOL</td>\n",
       "    </tr>\n",
       "    <tr>\n",
       "      <th>7</th>\n",
       "      <td>527145080</td>\n",
       "      <td>GILBERT COMMUNITY SCHOOL</td>\n",
       "    </tr>\n",
       "    <tr>\n",
       "      <th>8</th>\n",
       "      <td>527146030</td>\n",
       "      <td>GILBERT COMMUNITY SCHOOL</td>\n",
       "    </tr>\n",
       "    <tr>\n",
       "      <th>9</th>\n",
       "      <td>527162130</td>\n",
       "      <td>GILBERT COMMUNITY SCHOOL</td>\n",
       "    </tr>\n",
       "  </tbody>\n",
       "</table>\n",
       "</div>"
      ],
      "text/plain": [
       "         pid                    school\n",
       "0  526301100     AMES COMMUNITY SCHOOL\n",
       "1  526350040     AMES COMMUNITY SCHOOL\n",
       "2  526351010     AMES COMMUNITY SCHOOL\n",
       "3  526353030     AMES COMMUNITY SCHOOL\n",
       "4  527105010     AMES COMMUNITY SCHOOL\n",
       "5  527105030  GILBERT COMMUNITY SCHOOL\n",
       "6  527127150  GILBERT COMMUNITY SCHOOL\n",
       "7  527145080  GILBERT COMMUNITY SCHOOL\n",
       "8  527146030  GILBERT COMMUNITY SCHOOL\n",
       "9  527162130  GILBERT COMMUNITY SCHOOL"
      ]
     },
     "execution_count": 68,
     "metadata": {},
     "output_type": "execute_result"
    }
   ],
   "source": [
    "boink.head(10)"
   ]
  },
  {
   "cell_type": "code",
   "execution_count": 74,
   "metadata": {
    "collapsed": false
   },
   "outputs": [
    {
     "data": {
      "text/plain": [
       "156"
      ]
     },
     "execution_count": 74,
     "metadata": {},
     "output_type": "execute_result"
    }
   ],
   "source": [
    "len(boink)"
   ]
  },
  {
   "cell_type": "code",
   "execution_count": 70,
   "metadata": {
    "collapsed": true
   },
   "outputs": [],
   "source": [
    "school_back = school_list"
   ]
  },
  {
   "cell_type": "code",
   "execution_count": 75,
   "metadata": {
    "collapsed": false
   },
   "outputs": [
    {
     "data": {
      "text/plain": [
       "59"
      ]
     },
     "execution_count": 75,
     "metadata": {},
     "output_type": "execute_result"
    }
   ],
   "source": [
    "len(school_list)"
   ]
  },
  {
   "cell_type": "code",
   "execution_count": null,
   "metadata": {
    "collapsed": true
   },
   "outputs": [],
   "source": []
  }
 ],
 "metadata": {
  "kernelspec": {
   "display_name": "Python 2",
   "language": "python",
   "name": "python2"
  },
  "language_info": {
   "codemirror_mode": {
    "name": "ipython",
    "version": 2
   },
   "file_extension": ".py",
   "mimetype": "text/x-python",
   "name": "python",
   "nbconvert_exporter": "python",
   "pygments_lexer": "ipython2",
   "version": "2.7.13"
  }
 },
 "nbformat": 4,
 "nbformat_minor": 2
}
